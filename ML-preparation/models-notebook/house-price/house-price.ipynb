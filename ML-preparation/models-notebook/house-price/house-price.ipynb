{
 "cells": [
  {
   "cell_type": "code",
   "execution_count": null,
   "id": "initial_id",
   "metadata": {
    "collapsed": true
   },
   "outputs": [],
   "source": [
    "# Import Library\n",
    "import pandas as pd\n",
    "from sklearn.model_selection import train_test_split\n",
    "from sklearn.preprocessing import StandardScaler\n",
    "from sklearn.ensemble import IsolationForest\n",
    "from sklearn.tree import DecisionTreeRegressor\n",
    "from sklearn.ensemble import RandomForestRegressor\n",
    "from sklearn.linear_model import LinearRegression\n",
    "from sklearn.metrics import mean_squared_error, r2_score\n",
    "\n",
    "import pandas as pd\n",
    "from sklearn.impute import SimpleImputer\n",
    "from sklearn.preprocessing import StandardScaler\n",
    "\n",
    "import pandas as pd\n",
    "from sklearn.preprocessing import StandardScaler, OneHotEncoder\n",
    "from sklearn.compose import ColumnTransformer\n",
    "from sklearn.model_selection import train_test_split\n",
    "\n",
    "import os\n",
    "import pickle\n",
    "\n",
    "# Read Dataset\n",
    "url = \"https://data.energystar.gov/resource/jmck-i55n.csv\"\n",
    "df = pd.read_csv(url)\n",
    "\n",
    "df"
   ]
  },
  {
   "cell_type": "code",
   "execution_count": null,
   "id": "3c1bc3eb",
   "metadata": {},
   "outputs": [],
   "source": [
    "df.columns"
   ]
  },
  {
   "cell_type": "code",
   "execution_count": null,
   "id": "b27664af",
   "metadata": {},
   "outputs": [],
   "source": [
    "import pandas as pd\n",
    "\n",
    "# Definisikan kolom-kolom yang tidak relevan\n",
    "irrelevant_features = [\n",
    "    'pd_id', 'energy_star_partner', 'brand_name', 'model_name',\n",
    "    'model_number', 'additional_model_information', 'upc',\n",
    "    'replacement_model_number', 'replacement_model_number_1',\n",
    "    'replacement_model_number_2', 'replacement_model_number_3',\n",
    "     'network_connection_types',\n",
    "    'connected_functions', 'need_module_for_network',\n",
    "    'cyber_security_and_or_privacy', 'date_available_on_market',\n",
    "    'date_qualified', 'markets', 'energy_star_model_identifier',\n",
    "    'meets_most_efficient_criteria'\n",
    "]\n",
    "# Menghapus fitur-fitur yang tidak relevan\n",
    "df = df.drop(columns=irrelevant_features)\n",
    "\n",
    "df.head()"
   ]
  },
  {
   "cell_type": "code",
   "execution_count": null,
   "id": "09acaa5d",
   "metadata": {},
   "outputs": [],
   "source": [
    "df.columns"
   ]
  },
  {
   "cell_type": "code",
   "execution_count": null,
   "id": "1a4bffb0",
   "metadata": {},
   "outputs": [],
   "source": [
    "# Memisahkan kolom numerik dan kategorikal\n",
    "numerical_cols = df.select_dtypes(include=['number']).columns.tolist()\n",
    "categorical_cols = df.select_dtypes(exclude=['number']).columns.tolist()\n",
    "\n",
    "# Scaling fitur numerik menggunakan StandardScaler\n",
    "scaler = StandardScaler()\n",
    "df[numerical_cols] = scaler.fit_transform(df[numerical_cols])\n",
    "\n",
    "# Menggabungkan kembali data yang sudah diproses\n",
    "df_processed = pd.concat([df[numerical_cols], pd.get_dummies(df[categorical_cols])], axis=1)\n",
    "\n",
    "# Menampilkan dataframe yang sudah diproses\n",
    "print(df_processed)"
   ]
  },
  {
   "cell_type": "code",
   "execution_count": null,
   "id": "5d3ee981",
   "metadata": {},
   "outputs": [],
   "source": [
    "# Memisahkan fitur (X) dan label (y)\n",
    "X = df_processed.drop(columns=['annual_energy_use_kwh_year'])\n",
    "y = df_processed['annual_energy_use_kwh_year']\n",
    "\n",
    "# Pembagian dataset menjadi data training dan testing\n",
    "X_train, X_test, y_train, y_test = train_test_split(X, y, test_size=0.1, random_state=42)\n",
    "\n",
    "# Tampilkan ukuran data train dan test\n",
    "print(f\"Ukuran data train: {X_train.shape}, {y_train.shape}\")\n",
    "print(f\"Ukuran data test: {X_test.shape}, {y_test.shape}\")"
   ]
  },
  {
   "cell_type": "code",
   "execution_count": null,
   "id": "db3ded38",
   "metadata": {},
   "outputs": [],
   "source": [
    "# Inisialisasi model Random Forest Regressor\n",
    "rf_regressor = RandomForestRegressor(random_state=42)\n",
    "\n",
    "# Melatih model Random Forest Regressor\n",
    "rf_regressor.fit(X_train, y_train)\n",
    "\n",
    "# Prediksi dengan model yang dilatih\n",
    "y_pred_rf = rf_regressor.predict(X_test)\n",
    "\n",
    "# Evaluasi model Random Forest Regressor\n",
    "mse_rf = mean_squared_error(y_test, y_pred_rf)\n",
    "r2_rf = r2_score(y_test, y_pred_rf)\n",
    "\n",
    "# Menyimpan hasil evaluasi ke dalam DataFrame\n",
    "rf_regression_results = pd.DataFrame({\n",
    "    \"Model\": [\"Random Forest Regressor\"],\n",
    "    \"Mean Squared Error\": [mse_rf],\n",
    "    \"R^2 Score\": [r2_rf],\n",
    "})\n",
    "\n",
    "# Menampilkan hasil evaluasi regresi\n",
    "print(\"\\n\", rf_regression_results)"
   ]
  },
  {
   "cell_type": "code",
   "execution_count": null,
   "id": "10a55b67",
   "metadata": {},
   "outputs": [],
   "source": [
    "# Inisialisasi model Linear Regression\n",
    "lr_regressor = LinearRegression()\n",
    "\n",
    "# Melatih model Linear Regression\n",
    "lr_regressor.fit(X_train, y_train)\n",
    "\n",
    "# Prediksi dengan model yang dilatih\n",
    "y_pred_lr = lr_regressor.predict(X_test)\n",
    "\n",
    "# Evaluasi model Linear Regression\n",
    "mse_lr = mean_squared_error(y_test, y_pred_lr)\n",
    "r2_lr = r2_score(y_test, y_pred_lr)\n",
    "\n",
    "# Menyimpan hasil evaluasi ke dalam DataFrame\n",
    "lr_regression_results = pd.DataFrame({\n",
    "    \"Model\": [\"Linear Regression\"],\n",
    "    \"Mean Squared Error\": [mse_lr],\n",
    "    \"R^2 Score\": [r2_lr],\n",
    "})\n",
    "\n",
    "# Menampilkan hasil evaluasi regresi\n",
    "print(\"\\n\", lr_regression_results)"
   ]
  },
  {
   "cell_type": "code",
   "execution_count": null,
   "id": "17cecafc",
   "metadata": {},
   "outputs": [],
   "source": [
    "# Path untuk menyimpan model pickle\n",
    "model_path = '../../../app/models-pickle/house-energy/air-cleaner.pkl'\n",
    "\n",
    "# Pastikan direktori untuk menyimpan model sudah ada\n",
    "os.makedirs(os.path.dirname(model_path), exist_ok=True)\n",
    "\n",
    "# Simpan model ke file .pkl\n",
    "with open(model_path, 'wb') as file:\n",
    "    pickle.dump(rf_regressor, file)\n",
    "\n",
    "print(f'Model Linear Regression disimpan ke {model_path}')"
   ]
  }
 ],
 "metadata": {
  "kernelspec": {
   "display_name": "Python 3",
   "language": "python",
   "name": "python3"
  },
  "language_info": {
   "codemirror_mode": {
    "name": "ipython",
    "version": 2
   },
   "file_extension": ".py",
   "mimetype": "text/x-python",
   "name": "python",
   "nbconvert_exporter": "python",
   "pygments_lexer": "ipython2",
   "version": "2.7.6"
  }
 },
 "nbformat": 4,
 "nbformat_minor": 5
}
